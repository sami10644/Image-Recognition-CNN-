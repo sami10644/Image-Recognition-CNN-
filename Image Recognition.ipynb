{
 "cells": [
  {
   "cell_type": "code",
   "execution_count": 1,
   "metadata": {},
   "outputs": [],
   "source": [
    " # Data Preprocessing"
   ]
  },
  {
   "cell_type": "code",
   "execution_count": 2,
   "metadata": {},
   "outputs": [],
   "source": [
    "import numpy as np \n",
    "import pandas as pd\n",
    "%matplotlib inline\n",
    "import matplotlib as mpl\n",
    "import matplotlib.pyplot as plt\n",
    "import os"
   ]
  },
  {
   "cell_type": "code",
   "execution_count": 3,
   "metadata": {},
   "outputs": [],
   "source": [
    "import tensorflow as tf\n",
    "from tensorflow import keras"
   ]
  },
  {
   "cell_type": "code",
   "execution_count": 4,
   "metadata": {},
   "outputs": [],
   "source": [
    "train_dir = r'F:\\CNN\\reass\\course resources\\cats_and_dogs_small\\train'\n",
    "test_dir =  r'F:\\CNN\\reass\\course resources\\cats_and_dogs_small\\test'\n",
    "valid_dir =  r'F:\\CNN\\reass\\course resources\\cats_and_dogs_small\\validation'"
   ]
  },
  {
   "cell_type": "code",
   "execution_count": 5,
   "metadata": {},
   "outputs": [
    {
     "name": "stdout",
     "output_type": "stream",
     "text": [
      "Found 2000 images belonging to 2 classes.\n",
      "Found 1000 images belonging to 2 classes.\n"
     ]
    }
   ],
   "source": [
    "from tensorflow.keras.preprocessing.image import ImageDataGenerator\n",
    "train_datagen = ImageDataGenerator (rescale = 1./255)\n",
    "test_datagen = ImageDataGenerator (rescale = 1./255 )\n",
    "train_generator = train_datagen.flow_from_directory(\n",
    "   train_dir ,\n",
    "    target_size= (150,150) ,\n",
    "    batch_size = 20 ,\n",
    "    class_mode = 'binary'\n",
    ")\n",
    "validation_generator = train_datagen.flow_from_directory(\n",
    "   test_dir ,\n",
    "    target_size= (150,150) ,\n",
    "    batch_size = 20 ,\n",
    "    class_mode = 'binary'\n",
    ")"
   ]
  },
  {
   "cell_type": "markdown",
   "metadata": {},
   "source": [
    "# Training the Model"
   ]
  },
  {
   "cell_type": "code",
   "execution_count": 6,
   "metadata": {},
   "outputs": [],
   "source": [
    "from tensorflow.keras import layers\n",
    "from tensorflow.keras import models \n"
   ]
  },
  {
   "cell_type": "code",
   "execution_count": 7,
   "metadata": {},
   "outputs": [],
   "source": [
    "model = models.Sequential()\n",
    "model.add(layers.Conv2D(32,(3,3),activation = 'relu' , input_shape = (150,150,3)))\n",
    "model.add(layers.MaxPooling2D((2,2)))\n",
    "model.add(layers.Conv2D(64,(3,3) ,activation = 'relu' ))\n",
    "model.add(layers.MaxPooling2D((2,2)))\n",
    "model.add(layers.Conv2D(128,(3,3),activation = 'relu' ))\n",
    "model.add(layers.MaxPooling2D((2,2)))\n",
    "model.add(layers.Conv2D(128,(3,3),activation = 'relu' ))\n",
    "model.add(layers.MaxPooling2D((2,2)))\n",
    "model.add(layers.Flatten())\n",
    "model.add(layers.Dense(512 , activation = 'relu'))\n",
    "model.add(layers.Dense(1,activation = 'sigmoid'))"
   ]
  },
  {
   "cell_type": "code",
   "execution_count": 8,
   "metadata": {},
   "outputs": [
    {
     "name": "stdout",
     "output_type": "stream",
     "text": [
      "Model: \"sequential\"\n",
      "_________________________________________________________________\n",
      "Layer (type)                 Output Shape              Param #   \n",
      "=================================================================\n",
      "conv2d (Conv2D)              (None, 148, 148, 32)      896       \n",
      "_________________________________________________________________\n",
      "max_pooling2d (MaxPooling2D) (None, 74, 74, 32)        0         \n",
      "_________________________________________________________________\n",
      "conv2d_1 (Conv2D)            (None, 72, 72, 64)        18496     \n",
      "_________________________________________________________________\n",
      "max_pooling2d_1 (MaxPooling2 (None, 36, 36, 64)        0         \n",
      "_________________________________________________________________\n",
      "conv2d_2 (Conv2D)            (None, 34, 34, 128)       73856     \n",
      "_________________________________________________________________\n",
      "max_pooling2d_2 (MaxPooling2 (None, 17, 17, 128)       0         \n",
      "_________________________________________________________________\n",
      "conv2d_3 (Conv2D)            (None, 15, 15, 128)       147584    \n",
      "_________________________________________________________________\n",
      "max_pooling2d_3 (MaxPooling2 (None, 7, 7, 128)         0         \n",
      "_________________________________________________________________\n",
      "flatten (Flatten)            (None, 6272)              0         \n",
      "_________________________________________________________________\n",
      "dense (Dense)                (None, 512)               3211776   \n",
      "_________________________________________________________________\n",
      "dense_1 (Dense)              (None, 1)                 513       \n",
      "=================================================================\n",
      "Total params: 3,453,121\n",
      "Trainable params: 3,453,121\n",
      "Non-trainable params: 0\n",
      "_________________________________________________________________\n"
     ]
    }
   ],
   "source": [
    "model.summary()"
   ]
  },
  {
   "cell_type": "code",
   "execution_count": 11,
   "metadata": {},
   "outputs": [],
   "source": [
    "from tensorflow.keras import optimizers\n",
    "model.compile(loss = 'binary_crossentropy',\n",
    "            optimizer =  optimizers.RMSprop(lr = 1e-4),\n",
    "              metrics = ['acc'])\n",
    "             "
   ]
  },
  {
   "cell_type": "code",
   "execution_count": 12,
   "metadata": {},
   "outputs": [
    {
     "name": "stdout",
     "output_type": "stream",
     "text": [
      "Epoch 1/20\n",
      "WARNING:tensorflow:From F:\\pythoooooon\\lib\\site-packages\\tensorflow_core\\python\\ops\\math_grad.py:1394: where (from tensorflow.python.ops.array_ops) is deprecated and will be removed in a future version.\n",
      "Instructions for updating:\n",
      "Use tf.where in 2.0, which has the same broadcast rule as np.where\n",
      "100/100 [==============================] - 97s 971ms/step - loss: 0.6886 - acc: 0.5305 - val_loss: 0.6968 - val_acc: 0.5080\n",
      "Epoch 2/20\n",
      "100/100 [==============================] - 94s 940ms/step - loss: 0.6548 - acc: 0.6150 - val_loss: 0.6535 - val_acc: 0.6010\n",
      "Epoch 3/20\n",
      "100/100 [==============================] - 91s 910ms/step - loss: 0.6126 - acc: 0.6560 - val_loss: 0.6275 - val_acc: 0.6500\n",
      "Epoch 4/20\n",
      "100/100 [==============================] - 99s 992ms/step - loss: 0.5623 - acc: 0.7130 - val_loss: 0.5802 - val_acc: 0.6970\n",
      "Epoch 5/20\n",
      "100/100 [==============================] - 87s 873ms/step - loss: 0.5321 - acc: 0.7380 - val_loss: 0.5938 - val_acc: 0.6860\n",
      "Epoch 6/20\n",
      "100/100 [==============================] - 81s 805ms/step - loss: 0.5029 - acc: 0.7525 - val_loss: 0.5769 - val_acc: 0.7030\n",
      "Epoch 7/20\n",
      "100/100 [==============================] - 84s 841ms/step - loss: 0.4883 - acc: 0.7640 - val_loss: 0.5637 - val_acc: 0.7200\n",
      "Epoch 8/20\n",
      "100/100 [==============================] - 81s 815ms/step - loss: 0.4642 - acc: 0.7790 - val_loss: 0.5856 - val_acc: 0.7010\n",
      "Epoch 9/20\n",
      "100/100 [==============================] - 78s 784ms/step - loss: 0.4336 - acc: 0.8060 - val_loss: 0.5552 - val_acc: 0.7170\n",
      "Epoch 10/20\n",
      "100/100 [==============================] - 79s 788ms/step - loss: 0.4068 - acc: 0.8265 - val_loss: 0.5455 - val_acc: 0.7340\n",
      "Epoch 11/20\n",
      "100/100 [==============================] - 79s 792ms/step - loss: 0.3866 - acc: 0.8310 - val_loss: 0.6151 - val_acc: 0.7080\n",
      "Epoch 12/20\n",
      "100/100 [==============================] - 81s 814ms/step - loss: 0.3647 - acc: 0.8380 - val_loss: 0.5492 - val_acc: 0.7390\n",
      "Epoch 13/20\n",
      "100/100 [==============================] - 80s 799ms/step - loss: 0.3389 - acc: 0.8560 - val_loss: 0.7065 - val_acc: 0.6940\n",
      "Epoch 14/20\n",
      "100/100 [==============================] - 80s 802ms/step - loss: 0.3158 - acc: 0.8665 - val_loss: 0.5579 - val_acc: 0.7550\n",
      "Epoch 15/20\n",
      "100/100 [==============================] - 80s 799ms/step - loss: 0.3029 - acc: 0.8695 - val_loss: 0.5528 - val_acc: 0.7490\n",
      "Epoch 16/20\n",
      "100/100 [==============================] - 81s 807ms/step - loss: 0.2703 - acc: 0.8920 - val_loss: 0.6495 - val_acc: 0.7140\n",
      "Epoch 17/20\n",
      "100/100 [==============================] - 80s 797ms/step - loss: 0.2537 - acc: 0.8945 - val_loss: 0.7629 - val_acc: 0.6950\n",
      "Epoch 18/20\n",
      "100/100 [==============================] - 80s 800ms/step - loss: 0.2340 - acc: 0.9055 - val_loss: 0.6016 - val_acc: 0.7330\n",
      "Epoch 19/20\n",
      "100/100 [==============================] - 80s 803ms/step - loss: 0.2125 - acc: 0.9185 - val_loss: 0.6293 - val_acc: 0.7250\n",
      "Epoch 20/20\n",
      "100/100 [==============================] - 79s 789ms/step - loss: 0.1974 - acc: 0.9285 - val_loss: 0.6297 - val_acc: 0.7300\n"
     ]
    }
   ],
   "source": [
    "history =model.fit_generator(train_generator , steps_per_epoch = 100 ,\n",
    "                             epochs = 20 ,\n",
    "                            validation_data = validation_generator ,\n",
    "                             validation_steps = 50\n",
    "                            )"
   ]
  },
  {
   "cell_type": "code",
   "execution_count": 13,
   "metadata": {},
   "outputs": [
    {
     "data": {
      "image/png": "[encoded data removed]",
      "text/plain": [
       "<Figure size 576x360 with 1 Axes>"
      ]
     },
     "metadata": {
      "needs_background": "light"
     },
     "output_type": "display_data"
    }
   ],
   "source": [
    "pd.DataFrame(history.history).plot(figsize=(8,5))\n",
    "plt.grid(True)\n",
    "plt.gca().set_ylim(0,1)\n",
    "plt.show()"
   ]
  },
  {
   "cell_type": "code",
   "execution_count": 14,
   "metadata": {},
   "outputs": [],
   "source": [
    "model.save('modelk.h5')"
   ]
  },
  {
   "cell_type": "code",
   "execution_count": null,
   "metadata": {},
   "outputs": [],
   "source": []
  }
 ],
 "metadata": {
  "kernelspec": {
   "display_name": "Python 3",
   "language": "python",
   "name": "python3"
  },
  "language_info": {
   "codemirror_mode": {
    "name": "ipython",
    "version": 3
   },
   "file_extension": ".py",
   "mimetype": "text/x-python",
   "name": "python",
   "nbconvert_exporter": "python",
   "pygments_lexer": "ipython3",
   "version": "3.7.6"
  }
 },
 "nbformat": 4,
 "nbformat_minor": 4
}
